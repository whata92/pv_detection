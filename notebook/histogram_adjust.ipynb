{
 "cells": [
  {
   "attachments": {},
   "cell_type": "markdown",
   "metadata": {},
   "source": [
    "Training data histogram analysis"
   ]
  },
  {
   "cell_type": "code",
   "execution_count": 8,
   "metadata": {},
   "outputs": [],
   "source": [
    "import os\n",
    "import cv2\n",
    "import glob\n",
    "import matplotlib.pyplot as plt\n",
    "import numpy as np"
   ]
  },
  {
   "cell_type": "code",
   "execution_count": 4,
   "metadata": {},
   "outputs": [],
   "source": [
    "root = \"/workspace/data/processed/img\"\n",
    "img_txt = \"/workspace/data/processed/train.txt\"\n",
    "suffix = \".bmp\""
   ]
  },
  {
   "cell_type": "code",
   "execution_count": 6,
   "metadata": {},
   "outputs": [
    {
     "data": {
      "text/plain": [
       "635"
      ]
     },
     "execution_count": 6,
     "metadata": {},
     "output_type": "execute_result"
    }
   ],
   "source": [
    "with open(img_txt, \"r\") as fp:\n",
    "    img_list_train = fp.read().split(\"\\n\")\n",
    "len(img_list_train)"
   ]
  },
  {
   "cell_type": "code",
   "execution_count": 7,
   "metadata": {},
   "outputs": [
    {
     "data": {
      "text/plain": [
       "['/workspace/data/processed/img/PV01_324981_1203795.bmp',\n",
       " '/workspace/data/processed/img/PV01_325119_1204074.bmp',\n",
       " '/workspace/data/processed/img/PV01_325120_1203763.bmp',\n",
       " '/workspace/data/processed/img/PV01_325120_1204226.bmp',\n",
       " '/workspace/data/processed/img/PV01_325120_1204229.bmp']"
      ]
     },
     "execution_count": 7,
     "metadata": {},
     "output_type": "execute_result"
    }
   ],
   "source": [
    "img_list = [os.path.join(root, img_name + suffix) for img_name in img_list_train]\n",
    "img_list[:5]"
   ]
  },
  {
   "cell_type": "code",
   "execution_count": 21,
   "metadata": {},
   "outputs": [
    {
     "name": "stdout",
     "output_type": "stream",
     "text": [
      "mean: [115.83304977 120.6712532  125.13541412]\n",
      "std: [53.45642877 48.68275767 52.36485826]\n"
     ]
    }
   ],
   "source": [
    "img = cv2.imread(img_list[0])\n",
    "h, w, c = img.shape\n",
    "mean = img.reshape(h*w, c).mean(axis=0)\n",
    "std = img.reshape(h*w, c).std(axis=0)\n",
    "\n",
    "print(f\"mean: {mean}\")\n",
    "print(f\"std: {std}\")"
   ]
  },
  {
   "cell_type": "code",
   "execution_count": null,
   "metadata": {},
   "outputs": [],
   "source": []
  }
 ],
 "metadata": {
  "kernelspec": {
   "display_name": "Python 3",
   "language": "python",
   "name": "python3"
  },
  "language_info": {
   "codemirror_mode": {
    "name": "ipython",
    "version": 3
   },
   "file_extension": ".py",
   "mimetype": "text/x-python",
   "name": "python",
   "nbconvert_exporter": "python",
   "pygments_lexer": "ipython3",
   "version": "3.9.16"
  },
  "orig_nbformat": 4,
  "vscode": {
   "interpreter": {
    "hash": "949777d72b0d2535278d3dc13498b2535136f6dfe0678499012e853ee9abcab1"
   }
  }
 },
 "nbformat": 4,
 "nbformat_minor": 2
}
