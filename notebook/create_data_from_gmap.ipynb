{
 "cells": [
  {
   "cell_type": "code",
   "execution_count": 1,
   "metadata": {},
   "outputs": [],
   "source": [
    "import os\n",
    "import glob\n",
    "\n",
    "from src.utils.data_utils import convert_json_to_img, crop_img"
   ]
  },
  {
   "cell_type": "code",
   "execution_count": 2,
   "metadata": {},
   "outputs": [],
   "source": [
    "root = \"/workspace/data/raw/gmap\"\n",
    "\n",
    "img_list = glob.glob(os.path.join(root, \"*.png\"))\n",
    "img_list.sort()\n",
    "anno_list = [img.replace(\".png\", \".json\") for img in img_list]"
   ]
  },
  {
   "cell_type": "code",
   "execution_count": 3,
   "metadata": {},
   "outputs": [
    {
     "name": "stdout",
     "output_type": "stream",
     "text": [
      "Finished: 2023-02-10 211523\n",
      "Finished: 2023-02-10 211955\n",
      "Finished: 2023-02-10 212704\n",
      "Finished: 2023-02-10 213105\n",
      "Finished: 2023-02-10 213504\n",
      "Finished: 2023-02-10_210000\n"
     ]
    }
   ],
   "source": [
    "anno_dir = \"/workspace/data/raw/gmap/annotation\"\n",
    "target_suffix = \".bmp\"\n",
    "\n",
    "os.makedirs(anno_dir, exist_ok=True)\n",
    "\n",
    "for img, anno in zip(img_list, anno_list):\n",
    "    img_fname = os.path.basename(img)\n",
    "    img_stem, _ = os.path.splitext(img_fname)\n",
    "    out_path = os.path.join(anno_dir, img_stem + target_suffix)\n",
    "\n",
    "    convert_json_to_img(img, anno, out_path)\n",
    "    print(f\"Finished: {img_stem}\")"
   ]
  },
  {
   "cell_type": "code",
   "execution_count": 5,
   "metadata": {},
   "outputs": [],
   "source": [
    "cropped_root = \"/workspace/data/raw/gmap/cropped\"\n",
    "\n",
    "for img in img_list:\n",
    "    img_fname = os.path.basename(img)\n",
    "    img_stem, _ = os.path.splitext(img_fname)\n",
    "\n",
    "    # crop image\n",
    "    crop_img(\n",
    "        img_path=img,\n",
    "        out_dir=os.path.join(cropped_root, \"img\"),\n",
    "        suffix=target_suffix\n",
    "    )\n",
    "\n",
    "    # crop annotation\n",
    "    crop_img(\n",
    "        img_path=os.path.join(anno_dir, img_stem + target_suffix),\n",
    "        out_dir=os.path.join(cropped_root, \"annotation\"),\n",
    "        is_annotation=True\n",
    "    )"
   ]
  },
  {
   "cell_type": "code",
   "execution_count": null,
   "metadata": {},
   "outputs": [],
   "source": []
  }
 ],
 "metadata": {
  "kernelspec": {
   "display_name": "Python 3",
   "language": "python",
   "name": "python3"
  },
  "language_info": {
   "codemirror_mode": {
    "name": "ipython",
    "version": 3
   },
   "file_extension": ".py",
   "mimetype": "text/x-python",
   "name": "python",
   "nbconvert_exporter": "python",
   "pygments_lexer": "ipython3",
   "version": "3.9.16"
  },
  "orig_nbformat": 4,
  "vscode": {
   "interpreter": {
    "hash": "949777d72b0d2535278d3dc13498b2535136f6dfe0678499012e853ee9abcab1"
   }
  }
 },
 "nbformat": 4,
 "nbformat_minor": 2
}
